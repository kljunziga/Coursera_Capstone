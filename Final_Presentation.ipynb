{
 "cells": [
  {
   "cell_type": "markdown",
   "metadata": {},
   "source": [
    "# FINAL REPORT"
   ]
  },
  {
   "cell_type": "markdown",
   "metadata": {},
   "source": [
    "#### The Battle of Neighborhoods (Week 1) - Introduction"
   ]
  },
  {
   "cell_type": "markdown",
   "metadata": {},
   "source": [
    "I am Data Scientist, living in a New York - more exactly Yorkville. I really enjoy this part of town, specially because all the venues such as cousine restaurants, cafes, bars, pizza places and most importantly gyms. I recently got offer for a job in Toronto. I am planning to move there but first I would like to find out, which neighbourhood in Toronto is the most simmilar to Yorkville. So my business problem is to find the area in Toronto, which is the most similar to Yorkville in terms of venues distribution and also a lot of gyms is a must, since I like to workout a lot and prefer a lot of options. I could just google it myself or ask on a forums but I would like to my own research and get the most objective possible answer.\n",
    "\n",
    "I think that this is the problem, a lot of people moving beetween towns suffer from. The solution provided will help everyone who wants to find similar neighbourhood in another city to which they want to move or explore.\n",
    "\n",
    "\n"
   ]
  },
  {
   "cell_type": "markdown",
   "metadata": {},
   "source": [
    "#### The Battle of Neighborhoods (Week 1) - Data"
   ]
  },
  {
   "cell_type": "markdown",
   "metadata": {},
   "source": [
    "###### Description of the data\n",
    "\n",
    "The following data is required to answer the issues of the problem:\n",
    "1. List of venues of Yorkville - Manhattan, NY\n",
    "2. List of Boroughs and neighborhoods of Toronto with their geodata (latitud and longitud)\n",
    "3. List of venues of Toronto neighbourhoods\n",
    "\n",
    "###### How the data will be used to solve the problem\n",
    "\n",
    "1. Calculate the most common venues in Yorkville\n",
    "2. Find out which boroughs and neighbourhoods are in Toronto\n",
    "3. For each neighbourhood find out which are the most common venues\n",
    "4. Compare venues distribution from all Toronto neighhbourhoods with venues distribution in Yorkville"
   ]
  },
  {
   "cell_type": "markdown",
   "metadata": {},
   "source": [
    "#### Methodology\n",
    "\n",
    "We first had to gather the data from the diferent sites such as cocl, wikipedia and fourthsquere. Then we had to analyze and explore the data.\n",
    "\n",
    "Neighborhood has a total of 5 boroughs and 306 neighborhoods. In order to segement the neighborhoods and explore them, we will essentially need a dataset that contains the 5 boroughs and the neighborhoods that exist in each borough as well as the the latitude and logitude coordinates of each neighborhood.\n",
    "\n",
    "The next task is essentially transforming this data of nested Python dictionaries into a pandas dataframe. So let's start by creating an empty dataframe.\n",
    "\n",
    "We used geopy library to get the latitude and longitude values of New York City.\n",
    "In order to define an instance of the geocoder, we need to define a user_agent. We will name our agent ny_explorer, as shown below. Folium is a great visualization library. Feel free to zoom into the above map, and click on each circle mark to reveal the name of the neighborhood and its respective borough.\n",
    "\n",
    "However, for illustration purposes, we map and segment and cluster only the neighborhoods in Manhattan. So let's slice the original dataframe and create a new dataframe of the Manhattan data. As we did with all of New York City, we also visualize Manhattan. We sent the GET request and examine the resutls from Forthsquare. Then we analyze the neighborhood Yoshville. We gather all the venues in the neighboorhood and calculate their frequency. \n",
    "\n",
    "We perform the same tasks for all the Neighborhoods in Toronto. After that, we merged all the data in one dataframe, wo get the same dimensions. Then we calculate euclid distance of every nighborhood with Yorkville. That way we got the most simmilar neighborhood. We also had to check if this neighborhood has a Gym which was prerequisite and it has it so it there were no additional steps needed.\n",
    "\n",
    "\n",
    "\n"
   ]
  },
  {
   "cell_type": "markdown",
   "metadata": {},
   "source": [
    "#### Results\n",
    "\n",
    "We discovered, that the most simmilar Neighborhood to Yorkville (NY) is Sutton Place which has very similar venue distribution as Yorkville. Their euclid distance is 0.13 which was the lowest of any neighborhood. The neighborhood has also a lot of Gym centers which was prerequisite and very important venue for me from the begining.\n"
   ]
  },
  {
   "cell_type": "markdown",
   "metadata": {},
   "source": [
    "#### Discussion and Recomendation\n",
    "\n",
    "The whole process was luckly pretty straigth-forward so I did not have any unexpected difficulties beside python syntax. Data was well prepared from the begining but we still had to do some manual exploration and transformations. I think that we successfuly achieved our goals and I am very happy with that.\n",
    "\n",
    "I would recommend this solution for anyone, who wants to see, which neighborhood is the most similar to one - for traveling, living or other purposes. Current solution is based on similarity to Yorkville but it is easily changed to any two cities and neighbourhoods in the world if good data is available."
   ]
  },
  {
   "cell_type": "markdown",
   "metadata": {},
   "source": [
    "#### Conclusion\n",
    "\n",
    "As I mentioned in Discusion section, I am very happy with the results I got. I managed to achieve goals I set at the begining and now I will be able to make my decision, to whicvh neighborhood I will move, easier. I think that my solution will be also very beneficial for anyone who for whatever reason need to compare different neighborhoods and find the most similar one."
   ]
  }
 ],
 "metadata": {
  "kernelspec": {
   "display_name": "Python 3",
   "language": "python",
   "name": "python3"
  },
  "language_info": {
   "codemirror_mode": {
    "name": "ipython",
    "version": 3
   },
   "file_extension": ".py",
   "mimetype": "text/x-python",
   "name": "python",
   "nbconvert_exporter": "python",
   "pygments_lexer": "ipython3",
   "version": "3.6.11"
  }
 },
 "nbformat": 4,
 "nbformat_minor": 4
}
