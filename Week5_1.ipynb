{
 "cells": [
  {
   "cell_type": "markdown",
   "metadata": {},
   "source": [
    "#### The Battle of Neighborhoods (Week 1) - Introduction"
   ]
  },
  {
   "cell_type": "markdown",
   "metadata": {},
   "source": [
    "I am Data Scientist, living in a New York - more exactly Yorkville. I really enjoy this part of town, specially because all the venues such as cousine restaurants, cafes, bars, pizza places and most importantly gyms. I recently got offer for a job in Toronto. I am planning to move there but first I would like to find out, which neighbourhood in Toronto is the most simmilar to Yorkville. So my business problem is to find the area in Toronto, which is the most similar to Yorkville in terms of venues distribution and also a lot of gyms is a must, since I like to workout a lot and prefer a lot of options. I could just google it myself or ask on a forums but I would like to my own research and get the most objective possible answer.\n",
    "\n",
    "I think that this is the problem, a lot of people moving beetween towns suffer from. The solution provided will help everyone who wants to find similar neighbourhood in another city to which they want to move or explore.\n",
    "\n",
    "\n"
   ]
  },
  {
   "cell_type": "code",
   "execution_count": null,
   "metadata": {},
   "outputs": [],
   "source": []
  }
 ],
 "metadata": {
  "kernelspec": {
   "display_name": "Python 3",
   "language": "python",
   "name": "python3"
  },
  "language_info": {
   "codemirror_mode": {
    "name": "ipython",
    "version": 3
   },
   "file_extension": ".py",
   "mimetype": "text/x-python",
   "name": "python",
   "nbconvert_exporter": "python",
   "pygments_lexer": "ipython3",
   "version": "3.6.10"
  }
 },
 "nbformat": 4,
 "nbformat_minor": 4
}
